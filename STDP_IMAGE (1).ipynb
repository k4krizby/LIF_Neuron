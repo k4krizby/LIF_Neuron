{
 "cells": [
  {
   "cell_type": "code",
   "execution_count": 10,
   "id": "404db86e",
   "metadata": {},
   "outputs": [],
   "source": [
    "import matplotlib.pyplot as plt\n",
    "import numpy as np\n",
    "import seaborn as sns\n",
    "\n"
   ]
  },
  {
   "cell_type": "code",
   "execution_count": 23,
   "id": "be6dccf4",
   "metadata": {},
   "outputs": [],
   "source": [
    "sns.set()\n",
    "sns.set_style({'axes.grid': False})\n",
    "image = np.array([[0, 0, 1, 0, 0], [0, 1, 0, 1, 0], [1, 0, 0, 0, 1], [0, 1, 0, 1, 0], [0, 0, 1, 0, 0]])\n",
    "np.random.seed(1)\n",
    "\n",
    "\n",
    "##LIF NEuron parameters and simulatio parameters \n",
    "\n",
    "\n",
    "Rm= 1e8\n",
    "Cm = 1e-7\n",
    "Tm = Rm * Cm\n",
    "V_m = -0.055\n",
    "V_rest = -0.055\n",
    "V_th = -0.025\n",
    "A_plus = 0.01\n",
    "A_minus = -0.01\n",
    "dt = 0.001\n",
    "T = np.arange(0, 0.35, 0.001)\n",
    "tau = 100\n",
    "bins = 350\n",
    "\n",
    "V_vec = np.zeros((len(T)))\n",
    "S_vec = np.zeros_like(V_vec)\n",
    "\n",
    "Iinj = np.zeros_like(V_vec)\n",
    "spike_train = np.zeros_like(Xpre)\n",
    "weights = np.repeat(0.04, 25)\n",
    "dw = np.zeros_like(Xpre)\n",
    "weight_plot = np.zeros_like(dw)\n",
    "V_vec[0] = V_m\n",
    "post_spike = 0\n",
    "pre_spike = 0\n",
    "\n",
    "w_max = 0.04"
   ]
  },
  {
   "cell_type": "code",
   "execution_count": 24,
   "id": "4ebb0e8d",
   "metadata": {},
   "outputs": [],
   "source": [
    "\n",
    "def gen_Poisson_spikes(img_array, fr, bins, spike_train):\n",
    "    img_array = img_array.flatten()\n",
    "    dt = 0.001\n",
    "    for pixel in range(img_array.size):\n",
    "        fr2 = fr * img_array[pixel]\n",
    "        poisson_output = np.random.rand(1, bins) < fr2 * dt\n",
    "        spike_train[pixel] = poisson_output.astype(int)\n",
    "\n",
    "    return spike_train\n",
    "\n",
    "\n",
    "post_status = 0\n",
    "sum_weight = 0\n",
    "pre_index = np.zeros_like(V_vec)\n",
    "post_index = np.zeros_like(pre_index)\n",
    "final_spike_train =  gen_Poisson_spikes(img_array=image,fr=100, bins=350, spike_train=spike_train)"
   ]
  },
  {
   "cell_type": "code",
   "execution_count": 25,
   "id": "f0ef7b6f",
   "metadata": {},
   "outputs": [],
   "source": [
    "for i in range(len(T) - 1):\n",
    "\n",
    "    # synaptic scaling\n",
    "    weights /= np.sum(weights) \n",
    "\n",
    "    # LIF neuron\n",
    "    Iinj[i] = np.dot(final_spike_train[:, i], weights) \n",
    "    V_vec[i + 1] = V_vec[i] + (dt / Tm) * (V_rest - V_vec[i]) + Rm * Iinj[i]\n",
    "    if V_vec[i + 1] > V_th:\n",
    "        V_vec[i + 1] = V_rest\n",
    "        S_vec[i + 1] = 1\n",
    "        post_spike = i\n",
    "    if V_vec[i + 1] <= V_rest:\n",
    "        V_vec[i + 1] = V_rest\n",
    "    # Updating the weights\n",
    "    for j in range(25):\n",
    "        \n",
    "        if final_spike_train[j][i] == 1:\n",
    "            pre_spike = i\n",
    "            post_status = 1\n",
    "        pre_index[i + 1] = pre_spike\n",
    "        post_index[i + 1] = post_spike\n",
    "        if post_spike - pre_spike < 0 and post_status == 1:\n",
    "            dw[j][i + 1] = A_minus * np.exp((post_spike - pre_spike) / tau)\n",
    "            weights[j] += dw[j][i + 1]\n",
    "            post_status = 0\n",
    "        elif post_spike - pre_spike >= 0 and post_status == 1:\n",
    "            dw[j][i + 1] = A_plus * np.exp((pre_spike - post_spike) / tau)\n",
    "            weights[j] += dw[j][i + 1]\n",
    "            post_status = 0\n",
    "        else:\n",
    "            dw[j][i + 1] = 0\n",
    "            \n",
    "        weight_plot[j][i + 1] = weights[j]\n"
   ]
  },
  {
   "cell_type": "code",
   "execution_count": 22,
   "id": "35c2d5b5",
   "metadata": {},
   "outputs": [
    {
     "name": "stdout",
     "output_type": "stream",
     "text": [
      "[[ 0.15570023  0.15570023 -0.06453836  0.15570023  0.15570023]\n",
      " [ 0.15570023 -0.11329859  0.15570023 -0.29476484  0.15570023]\n",
      " [-0.27365027  0.15570023  0.15570023  0.15570023 -0.2441646 ]\n",
      " [ 0.15570023 -0.1923834   0.15570023 -0.32091003  0.15570023]\n",
      " [ 0.15570023  0.15570023 -0.14319388  0.15570023  0.15570023]]\n"
     ]
    },
    {
     "data": {
      "image/png": "[encoded data removed]",
      "text/plain": [
       "<Figure size 640x480 with 1 Axes>"
      ]
     },
     "metadata": {},
     "output_type": "display_data"
    }
   ],
   "source": [
    "print(weights.reshape((5, 5)))\n",
    "\n",
    "plt.imshow(weights.reshape((5, 5)))\n",
    "plt.show()\n"
   ]
  },
  {
   "cell_type": "code",
   "execution_count": null,
   "id": "b8cc4b5d",
   "metadata": {},
   "outputs": [],
   "source": []
  }
 ],
 "metadata": {
  "kernelspec": {
   "display_name": "Python 3 (ipykernel)",
   "language": "python",
   "name": "python3"
  },
  "language_info": {
   "codemirror_mode": {
    "name": "ipython",
    "version": 3
   },
   "file_extension": ".py",
   "mimetype": "text/x-python",
   "name": "python",
   "nbconvert_exporter": "python",
   "pygments_lexer": "ipython3",
   "version": "3.10.6"
  }
 },
 "nbformat": 4,
 "nbformat_minor": 5
}
